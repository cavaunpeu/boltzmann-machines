{
 "cells": [
  {
   "cell_type": "markdown",
   "metadata": {},
   "source": [
    "# Additional Strategies for Confronting the Partition Function\n",
    "\n",
    "In the [previous post](https://cavaunpeu.github.io/2018/10/20/thorough-introduction-to-boltzmann-machines/) we introduced Boltzmann machines and the infeasibility of computing the gradient of its log-partition function $\\nabla_{\\theta}\\log{Z}$. To this end, we explored one strategy for its approximation: Gibbs sampling. Gibbs sampling is a viable alternative because the expression for this gradient simplifies to an expectation over the model distribution, which can be approximated with Monte Carlo samples.\n",
    "\n",
    "In this post, we'll highlight the imperfections of even this approach, then present more preferable alternatives.\n",
    "\n",
    "## Pitfalls of Gibbs sampling\n",
    "\n",
    "To refresh, the two gradients we seek to compute in a reasonable amount of time are:\n",
    "\n",
    "$$\n",
    "\\nabla_{w_{i, j}}\\log{Z} = \\mathop{\\mathbb{E}}_{x \\sim p_{\\text{model}}} [x_i  x_j]\\\\\n",
    "\\nabla_{b_{i}}\\log{Z} = \\mathop{\\mathbb{E}}_{x \\sim p_{\\text{model}}} [x_i]\n",
    "$$\n",
    "\n",
    "Via Gibbs sampling, we approximate each by:\n",
    "\n",
    "1. Burning in a Markov chain w.r.t. our model, then selecting $n$ samples from this chain\n",
    "2. Evaluating both functions ($x_i  x_j$, and $x_i$) at these samples\n",
    "3. Taking the average of each\n",
    "\n",
    "Concretely:\n",
    "\n",
    "$$\n",
    "\\nabla_{w_{i, j}}\\log{Z} \\approx \\frac{1}{N}\\sum\\limits_{k=1}^N x^{(k)}_i  x^{(k)}_j\\quad\\text{where}\\quad x^{(k)} \\sim p_{\\text{model}}\\\\\n",
    "\\nabla_{b_{i}}\\log{Z} \\approx \\frac{1}{N}\\sum\\limits_{k=1}^N x^{(k)}_i\\quad\\text{where}\\quad x^{(k)} \\sim p_{\\text{model}}\n",
    "$$\n",
    "\n",
    "**We perform this sampling process at each gradient step.**\n",
    "\n",
    "### The cost of burning in each chain\n",
    "\n",
    "Initializing a Markov chain at a random sample incurs a \"burn-in\" process which comes at non-trivial cost. If paying this cost at each gradient step, it begins to add up. How can we do better?\n",
    "\n",
    "**In the remainder of the post, we'll explore two new directives for approximating the negative phase more cheaply, and the algorithms they birth.**\n",
    "\n",
    "## Directive \\#1: Cheapen the burn-in process\n",
    "\n",
    "## Stochastic maximum likelihood\n",
    "\n",
    "SML assumes the premise: let's initialize our chain at a point already close to the model's true distribution—reducing or perhaps eliminating the cost of burn-in altogether.  **This given, at what sample do we initialize the chain?**\n",
    "\n",
    "In SML, we simply initialize at the terminal value of the previous chain (i.e. the one we manufactured to compute the gradients of the previous mini-batch). **As long as the model has not changed significantly since, i.e. as long as the previous parameter update (gradient step) was not too large, this sample should exist in a region of high probability under the current model.**\n",
    "\n",
    "In code, this might look like:\n",
    "\n",
    "```python\n",
    "n_obs, dim = X.shape  # X holds all of our observations\n",
    "\n",
    "# Vanilla Gibbs sampling\n",
    "samples = [np.zeros(dim)]\n",
    "\n",
    "# SML\n",
    "samples = [previous_samples[-1]]\n",
    "```\n",
    "\n",
    "### Implications\n",
    "Per the expression for the full log-likelihood gradient, e.g. $\\nabla_{w_{i, j}}\\log{\\mathcal{L}} = \\mathop{\\mathbb{E}}_{x \\sim p_{\\text{data}}} [x_i  x_j] - \\mathop{\\mathbb{E}}_{x \\sim p_{\\text{model}}} [x_i  x_j]$, the negative phase works to \"reduce the probability of the points in which the model strongly, yet wrongly, believes\".[^1] Since we approximate this term at each parameter update with samples *roughly from* the current model's true distribution, **we do not encroach on this foundational task.**\n",
    "\n",
    "## Contrastive divergence\n",
    "\n",
    "Alternatively, in the contrastive divergence algorithm, we initialize the chain at each gradient step with a sample from the data distribution.\n",
    "\n",
    "### Implications\n",
    "\n",
    "With no guarantee that the data distribution resembles the model distribution, we may systematically fail to sample, and thereafter \"suppress,\" points that are incorrectly likely under the latter (as they do not appear in the former!). **This incurs the growth of \"spurious modes\"** in our model, aptly named.[^1]\n",
    "\n",
    "In code, this might look like:\n",
    "\n",
    "```python\n",
    "# Vanilla Gibbs sampling\n",
    "samples = [np.zeros(dim)]\n",
    "\n",
    "# SML\n",
    "samples = [previous_samples[-1]]\n",
    "\n",
    "# Contrastive divergence\n",
    "samples = [X[np.random.choice(n_obs)]]\n",
    "```\n",
    "\n",
    "Cheapening the burn-in phase indeed gives us a more efficient training routine. Moving forward, what are some even more aggressive strategies we can explore?\n",
    "\n",
    "## Directive \\#2: Skip the computation of $Z$ altogether\n",
    "\n",
    "Canonically, we write the log-likelihood of our Boltzmann machine as follows:\n",
    "\n",
    "$$\n",
    "\\begin{align*}\n",
    "\\log{\\mathcal{L}(x)}\n",
    "&= \\log{\\frac{\\exp{(H(x))}}{Z}}\\\\\n",
    "&= \\log{\\big(\\exp{(H(x))}\\big)} - \\log{Z}\\\\\n",
    "&= H(x) - \\log{Z}\n",
    "\\end{align*}\n",
    "$$\n",
    "\n",
    "Instead, what if we simply wrote this as:\n",
    "\n",
    "$$\n",
    "\\log{\\mathcal{L}(x)} = H(x) - c\n",
    "$$\n",
    "\n",
    "or, more generally:\n",
    "\n",
    "$$\n",
    "\\log{p_{\\text{model}}(x)} = \\log{\\tilde{p}_{\\text{model}}(x; \\theta)} - c\n",
    "$$\n",
    "\n",
    "and estimated $c$ as a parameter?\n",
    "\n",
    "**Immediately, we remark that if we optimize this model with maximum likelihood, our algorithm will, trivially, make $c$ arbitrarily negative.** In other words, the quickest way to increase the thing on the left is to decrease $c$.\n",
    "\n",
    "How might we better phrase this problem?\n",
    "\n",
    "## Noise contrastive estimation\n",
    "\n",
    "Ingeniously, NCE proposes an alternative:\n",
    "\n",
    "1. Posit two distributions: the model, and a noise distribution\n",
    "2. Given a data point, predict from which distribution this point was generated\n",
    "\n",
    "Let's unpack this a bit.\n",
    "\n",
    "Under an (erroneous) MLE formulation, we would optimize the following objective:\n",
    "\n",
    "$$\n",
    "\\theta, c = \\underset{\\theta, c}{\\arg\\max}\\  \\mathbb{E}_{x \\sim p_{\\text{data}}} [\\log{p_{\\text{model}}}(x)]\n",
    "$$\n",
    "\n",
    "Under NCE, we're going to replace two pieces so as to perform the binary classification task described above (with 1 = \"model\", and 0 = \"noise\").\n",
    "\n",
    "First, let's swap $\\log{p_{\\text{model}}}(x)$ with $\\log{p_{\\text{joint}}}(y = 0\\vert x)$, where:\n",
    "\n",
    "$$\n",
    "p_{\\text{joint}}(x\\vert y) =\n",
    "\\begin{cases}\n",
    "p_{\\text{noise}}(x)\\quad y = 0\\\\\n",
    "p_{\\text{model}}(x)\\quad y = 1\\\\\n",
    "\\end{cases}\n",
    "$$\n",
    "\n",
    "$$\n",
    "p_{\\text{joint}}(x, y)\n",
    "= p_{\\text{joint}}(y = 0)p_{\\text{noise}}(x) + p_{\\text{joint}}(y = 1)p_{\\text{model}}(x)\n",
    "$$\n",
    "\n",
    "$$\n",
    "p_{\\text{joint}}(y = 0\\vert x)\n",
    "= \\frac{p_{\\text{joint}}(y = 0)p_{\\text{noise}}(x)}{p_{\\text{joint}}(y = 0)p_{\\text{noise}}(x) + p_{\\text{joint}}(y = 1)p_{\\text{model}}(x)}\n",
    "$$\n",
    "\n",
    "Finally:\n",
    "\n",
    "$$\n",
    "\\theta, c = \\underset{\\theta, c}{\\arg\\max}\\  \\mathbb{E}_{x \\sim p_{\\text{data}}} [\\log{p_{\\text{joint}}(y = 0\\vert x)}]\n",
    "$$\n",
    "\n",
    "From here, we need to update $x \\sim p_{\\text{data}}$ to include $y$. We'll do this in two pedantic steps.\n",
    "\n",
    "First, let's write:\n",
    "\n",
    "$$\n",
    "\\theta, c = \\underset{\\theta, c}{\\arg\\max}\\  \\mathbb{E}_{x, y=0\\ \\sim\\ p_{\\text{noise}}} [\\log{p_{\\text{joint}}(y\\vert x)}]\n",
    "$$\n",
    "\n",
    "This equation:\n",
    "\n",
    "1. Builds a classifier that discriminates between samples generated from the model distribution and noise distribution **trained only on samples from the latter.** (Clearly, this will not make for an effective classifier.)\n",
    "2. To train this classifier, we note that the equation asks us to maximize the likelihood of the noise samples under the noise distribution—where the noise distribution itself has no actual parameters we intend to train!\n",
    "\n",
    "In solution, we trivially expand our expectation to one over both noise samples, and data samples. In doing so, in predicting $\\log{p_{\\text{joint}}(y = 1\\vert x)} = 1 - \\log{p_{\\text{joint}}(y = 0\\vert x)}$, **we'll be maximizing the likelihood of the data under the model.**\n",
    "\n",
    "$$\n",
    "\\theta, c = \\underset{\\theta, c}{\\arg\\max}\\  \\mathbb{E}_{x, y\\ \\sim\\ p_{\\text{train}}} [\\log{p_{\\text{joint}}(y \\vert x)}]\n",
    "$$\n",
    "\n",
    "where:\n",
    "\n",
    "$$\n",
    "p_{\\text{train}}(x\\vert y) =\n",
    "\\begin{cases}\n",
    "p_{\\text{noise}}(x)\\quad y = 0\\\\\n",
    "p_{\\text{data}}(x)\\quad y = 1\\\\\n",
    "\\end{cases}\n",
    "$$\n",
    "\n",
    "As a final step, we'll expand our object into something more elegant:\n",
    "\n",
    "$$\n",
    "\\begin{align*}\n",
    "p_{\\text{joint}}(y = 0\\vert x)\n",
    "&= \\frac{p_{\\text{joint}}(y = 0)p_{\\text{noise}}(x)}{p_{\\text{joint}}(y = 0)p_{\\text{noise}}(x) + p_{\\text{joint}}(y = 1)p_{\\text{model}}(x)}\\\\\n",
    "&= \\frac{1}{1 + \\frac{p_{\\text{joint}}(y = 1)p_{\\text{model}}(x)}{p_{\\text{joint}}(y = 0)p_{\\text{noise}}(x)}}\\\\\n",
    "\\end{align*}\n",
    "$$\n",
    "\n",
    "Assuming *a priori* that $p_{\\text{joint}}(x, y)$ is $k$ times more likely to generate a noise sample, i.e. $\\frac{p_{\\text{joint}}(y = 1)}{p_{\\text{joint}}(y = 0)} = \\frac{1}{k}$:\n",
    "\n",
    "$$\n",
    "\\begin{align*}\n",
    "p_{\\text{joint}}(y = 0\\vert x)\n",
    "&= \\frac{1}{1 + \\frac{p_{\\text{model}}(x)}{p_{\\text{noise}}(x)\\cdot k}}\\\\\n",
    "&= \\frac{1}{1 + \\exp\\big(\\log{\\frac{p_{\\text{model}}(x)}{{p_{\\text{noise}}(x)\\cdot k}}}\\big)}\\\\\n",
    "&= \\sigma\\bigg(-\\log{\\frac{p_{\\text{model}}(x)}{{p_{\\text{noise}}(x)\\cdot k}}}\\bigg)\\\\\n",
    "&= \\sigma\\bigg(\\log{k} + \\log{p_{\\text{noise}}(x)} - \\log{p_{\\text{model}}(x)}\\bigg)\\\\\n",
    "p_{\\text{joint}}(y = 1\\vert x)\n",
    "&= 1 - \\sigma\\bigg(\\log{k} + \\log{p_{\\text{noise}}(x)} - \\log{p_{\\text{model}}(x)}\\bigg)\n",
    "\\end{align*}\n",
    "$$\n",
    "\n",
    "Given a joint training distribution over $(X_{\\text{data}}, y=1)$ and $(X_{\\text{noise}}, y=0)$, this is the target we'd like to maximize.\n",
    "\n",
    "### Implications\n",
    "\n",
    "For our training data, **we require the ability to sample from our noise distribution.**\n",
    "\n",
    "For our target, **we require the ability to compute the likelihood of some data under our noise distribution.**\n",
    "\n",
    "Therefore, these criterion do place practical restrictions on the types of noise distributions that we're able to consider.\n",
    "\n",
    "### Extensions\n",
    "\n",
    "We briefly alluded to the fact that our noise distribution is non-parametric. However, there is nothing stopping us from evolving this distribution and giving it trainable parameters, then updating these parameters such that it generates increasingly \"optimal\" samples.\n",
    "\n",
    "Of course, we would have to design what \"optimal\" means. One interesting approach is called [Adversarial Contrastive Estimation\n",
    "](https://arxiv.org/abs/1805.03642), wherein the authors adapt the noise distribution to generate increasingly \"harder negative examples, which forces the main model to learn a better representation of the data.\"[^2]\n",
    "\n",
    "## Negative sampling\n",
    "\n",
    "Negative sampling is the same as NCE except:\n",
    "\n",
    "1. We consider noise distributions whose likelihood we cannot evaluate\n",
    "2. To accommodate, we simply set $p_{\\text{noise}}(x) = 1$\n",
    "\n",
    "Therefore:\n",
    "\n",
    "$$\n",
    "\\begin{align*}\n",
    "p_{\\text{joint}}(y = 0\\vert x)\n",
    "&= \\frac{1}{1 + \\frac{p_{\\text{model}}(x)}{p_{\\text{noise}}(x)\\cdot k}}\\\\\n",
    "&= \\frac{1}{1 + \\frac{p_{\\text{model}}(x)}{ k}}\\\\\n",
    "&=\\sigma(-\\frac{p_{\\text{model}}(x)}{ k})\\\\\n",
    "&=\\sigma(\\log{k} - \\log{p_{\\text{model}}(x)})\\\\\n",
    "p_{\\text{joint}}(y = 1\\vert x)\n",
    "&= 1 - \\sigma(\\log{k} - \\log{p_{\\text{model}}(x)})\n",
    "\\end{align*}\n",
    "$$\n",
    "\n",
    "## In code\n",
    "\n",
    "Since I learn best by implementing things, let's play around. Below, we train Boltzmann machines via noise contrastive estimation and negative sampling.\n"
   ]
  },
  {
   "cell_type": "code",
   "execution_count": 369,
   "metadata": {},
   "outputs": [],
   "source": [
    "from itertools import repeat\n",
    "\n",
    "import matplotlib.pyplot as plt\n",
    "import numpy as np\n",
    "import seaborn as sns\n",
    "import torch\n",
    "from torch.distributions.multivariate_normal import MultivariateNormal\n",
    "import torch.nn as nn\n",
    "import torchvision\n",
    "import torchvision.datasets as dset\n",
    "import torchvision.transforms as transforms"
   ]
  },
  {
   "cell_type": "markdown",
   "metadata": {},
   "source": [
    "# Load data\n",
    "\n",
    "For this exercise, we'll fit a Boltzmann machine to the [Fashion MNIST](https://www.kaggle.com/zalando-research/fashionmnist) dataset.\n",
    "\n",
    "The following code takes influence from a variety of posts like [this](https://jhui.github.io/2018/02/09/PyTorch-Data-loading-preprocess_torchvision/) which provide code for loading and displaying popular image datasets via [torchvision](https://pypi.org/project/torchvision/)."
   ]
  },
  {
   "cell_type": "code",
   "execution_count": 370,
   "metadata": {},
   "outputs": [
    {
     "data": {
      "image/png": "[encoded data removed]",
      "text/plain": [
       "<Figure size 432x288 with 1 Axes>"
      ]
     },
     "metadata": {
      "needs_background": "light"
     },
     "output_type": "display_data"
    }
   ],
   "source": [
    "BATCH_SIZE = 4\n",
    "\n",
    "transform = transforms.Compose(\n",
    "    [\n",
    "        transforms.ToTensor(),\n",
    "        transforms.Normalize((0.5, 0.5, 0.5), (0.5, 0.5, 0.5))\n",
    "    ]\n",
    ")\n",
    "\n",
    "def imshow(img):\n",
    "    img = img / 2 + 0.5\n",
    "    npimg = img.numpy()\n",
    "    plt.imshow(np.transpose(npimg, (1, 2, 0)))\n",
    "\n",
    "\n",
    "# load data\n",
    "trainset = dset.mnist.FashionMNIST(root = 'data/fashion-mnist', download=True, transform=transform)\n",
    "trainloader = torch.utils.data.DataLoader(trainset, batch_size=BATCH_SIZE, shuffle=True)\n",
    "\n",
    "# get some random training images\n",
    "dataiter = iter(trainloader)\n",
    "images, labels = dataiter.next()\n",
    "\n",
    "# show images\n",
    "imshow(torchvision.utils.make_grid(images))\n",
    "\n",
    "# get data dimensionality size\n",
    "n_units = trainset[0][0].view(-1).size()[0]"
   ]
  },
  {
   "cell_type": "markdown",
   "metadata": {},
   "source": [
    "# Define model\n",
    "\n",
    "Below, as opposed to in the previous post, I offer a vectorized implementation of the Boltzmann energy function.\n",
    "\n",
    "This said, the code is still imperfect: especially re: the line in which I iterate through data points individually to compute the joint likelihood.\n",
    "\n",
    "Finally, in `Model._H`, I divide by 1000 to get this thing to train. The following is only a toy exercise (like many of my posts); I did not spend much time tuning parameters."
   ]
  },
  {
   "cell_type": "code",
   "execution_count": 371,
   "metadata": {},
   "outputs": [],
   "source": [
    "def sigmoid(z):\n",
    "    return 1 / (1 + torch.exp(-z))\n",
    "\n",
    "\n",
    "class Model(nn.Module):\n",
    "    \n",
    "    def __init__(self, n_units, seed=42):\n",
    "        super().__init__()\n",
    "        torch.manual_seed(seed)\n",
    "        \n",
    "        self.params = nn.Linear(n_units, n_units, bias=True)\n",
    "        torch.nn.init.xavier_uniform_(self.params.weight)\n",
    "        self.c = nn.Parameter(torch.FloatTensor([1.]))\n",
    "        self.diagonal_mask = (~torch.eye(n_units).byte()).float()\n",
    "        self.n_units = n_units\n",
    "        \n",
    "    def forward(self, x, log=False):\n",
    "        return self._likelihood(x, log=log)\n",
    "        \n",
    "    def _unnormalized_likelihood(self, x):\n",
    "        return torch.exp(self._H(x))\n",
    "        \n",
    "    def _H(self, x):\n",
    "        H = (self.diagonal_mask * torch.triu(self.params.weight * torch.ger(x, x))).sum() + self.params.bias.sum()\n",
    "        return H / 1000\n",
    "    \n",
    "    def _likelihood(self, x, log=False):\n",
    "        \"\"\"\n",
    "        :param x: a vector of shape (n_units,) or (n, n_units),\n",
    "            where the latter is a matrix of multiple data points\n",
    "            for which to compute the joint likelihood\n",
    "            \n",
    "        :return: the likelihood, or log-likelihood if `log=True`\n",
    "        \"\"\"\n",
    "        if not self.n_units in x.size() and len(x.size()) in (1, 2):\n",
    "            raise('Please pass 1 or more points of `n_units` dimensions')\n",
    "           \n",
    "        # compute unnormalized likelihoods\n",
    "        multiple_samples = len(x.shape) == 2\n",
    "        if multiple_samples:\n",
    "            likelihood = [self._unnormalized_likelihood(point) for point in x]\n",
    "        else:\n",
    "            likelihood = [self._unnormalized_likelihood(x)]\n",
    "        \n",
    "        if log:\n",
    "            return torch.stack([torch.log(lik) - torch.log(self.c) for lik in likelihood])\n",
    "        else:\n",
    "            return torch.stack([lik / self.c for lik in likelihood])\n",
    "        \n",
    "    def sample(self, n_samples=100, init_sample=None, burn_in=25, every_n=10) -> np.array:\n",
    "\n",
    "        if burn_in > n_samples:\n",
    "            n_samples += burn_in\n",
    "\n",
    "        init_sample = init_sample or torch.zeros_like(self.params.bias)\n",
    "        samples = [init_sample]\n",
    "\n",
    "        def _gibbs_step(sample, i):\n",
    "            z = sum([self.params.weight[i, j] * sample[j] for j in range(len(sample)) if j != i]) + self.params.bias[i]\n",
    "            p = sigmoid(z)\n",
    "            return p\n",
    "\n",
    "        for _ in range(n_samples):\n",
    "            sample = list(samples[-1])  # make copy\n",
    "            for i, _ in enumerate(sample):\n",
    "                sample[i] = _gibbs_step(sample=sample, i=i)\n",
    "            samples.append( torch.Tensor(sample) )\n",
    "\n",
    "        return [sample for i, sample in enumerate(samples[burn_in:]) if i % every_n == 0]"
   ]
  },
  {
   "cell_type": "markdown",
   "metadata": {},
   "source": [
    "# Noise contrastive estimation\n",
    "\n",
    "Train a model using noise contrastive estimation. For our noise distribution, we'll start with a diagonal multivariate Gaussian, from which we can sample, and whose likelihood we can evaluate (as of PyTorch 0.4!)."
   ]
  },
  {
   "cell_type": "code",
   "execution_count": 416,
   "metadata": {},
   "outputs": [],
   "source": [
    "# define model, noise distribution\n",
    "model = Model(n_units)\n",
    "noise = MultivariateNormal(loc=torch.zeros(n_units), covariance_matrix=torch.eye(n_units))\n",
    "\n",
    "# define classifier. we add a multiplicative constant to make training more stable.\n",
    "k = 10\n",
    "classifier = lambda X: 1 - sigmoid(torch.Tensor([k]).log() + (noise.log_prob(X) / 10000) - model(X, log=True).squeeze())\n",
    "\n",
    "# define noise generator\n",
    "noise_sample = lambda: noise.sample(sample_shape=torch.Size([BATCH_SIZE * k]))\n",
    "noiseloader = ( (noise_sample(), _) for _ in range(len(trainloader)) )\n",
    "\n",
    "# define optimizer, loss\n",
    "optimizer = torch.optim.Adam(model.parameters(), lr=.01)\n",
    "criterion = nn.BCELoss()"
   ]
  },
  {
   "cell_type": "code",
   "execution_count": 417,
   "metadata": {},
   "outputs": [],
   "source": [
    "def train_model(classifier, optimizer, trainloader, noiseloader, n_batches=float('inf'), verbose=False):\n",
    "\n",
    "    for i, (data, noise) in enumerate(zip(trainloader, noiseloader)):\n",
    "        \n",
    "        if i < n_batches:\n",
    "\n",
    "            # points from data distribution\n",
    "            X_data, _ = data\n",
    "            X_data = X_data.view(-1, n_units)\n",
    "            y_data = torch.FloatTensor([1. for _ in range(X_data.size(0))])\n",
    "\n",
    "            # points from noise distribution\n",
    "            X_noise, _ = noise\n",
    "            X_noise = X_noise.view(-1, n_units)\n",
    "            y_noise = torch.FloatTensor([0. for _ in range(X_noise.size(0))])\n",
    "\n",
    "            # stack into single input\n",
    "            X = torch.cat([X_data, X_noise]).view(-1, n_units)\n",
    "            y = torch.cat([y_data, y_noise]).view(-1)\n",
    "\n",
    "            optimizer.zero_grad()\n",
    "            logits = classifier(X)\n",
    "            loss = criterion(logits, y)\n",
    "\n",
    "            loss.backward()\n",
    "            optimizer.step()\n",
    "\n",
    "            if i % 10 == 0:\n",
    "                print(f'Batch: {i} | Loss: {loss.data.item():.3}')\n",
    "                if verbose:\n",
    "                    print(f'weights.mean(): {model.params.weight.mean():.3}')\n",
    "                    print(f'bias.mean(): {model.params.bias.mean():.3}')\n",
    "                    print(f'c: {model.c.data.item():.3}')\n",
    "                    print(f'weights.grad.mean(): {model.params.weight.grad.mean():.3}')\n",
    "                    print(f'bias.grad.mean(): {model.params.bias.grad.mean():.3}')\n",
    "                    print(f'c.grad: {model.c.grad.data.item():.3}')"
   ]
  },
  {
   "cell_type": "markdown",
   "metadata": {},
   "source": [
    "## Train model"
   ]
  },
  {
   "cell_type": "code",
   "execution_count": 412,
   "metadata": {},
   "outputs": [
    {
     "name": "stdout",
     "output_type": "stream",
     "text": [
      "Batch: 0 | Loss: 0.305\n",
      "Batch: 10 | Loss: 0.0887\n",
      "Batch: 20 | Loss: 0.0794\n",
      "Batch: 30 | Loss: 0.0603\n",
      "Batch: 40 | Loss: 0.0525\n",
      "Batch: 50 | Loss: 0.0503\n",
      "Batch: 60 | Loss: 0.0414\n",
      "Batch: 70 | Loss: 0.038\n",
      "Batch: 80 | Loss: 0.034\n",
      "Batch: 90 | Loss: 0.0312\n"
     ]
    }
   ],
   "source": [
    "train_model(classifier, optimizer, trainloader, noiseloader, n_batches=100)"
   ]
  },
  {
   "cell_type": "markdown",
   "metadata": {},
   "source": [
    "# Negative sampling\n",
    "\n",
    "Next, we'll try negative sampling using some actual images as negative samples"
   ]
  },
  {
   "cell_type": "code",
   "execution_count": 445,
   "metadata": {},
   "outputs": [
    {
     "data": {
      "image/png": "[encoded data removed]",
      "text/plain": [
       "<Figure size 432x288 with 1 Axes>"
      ]
     },
     "metadata": {
      "needs_background": "light"
     },
     "output_type": "display_data"
    }
   ],
   "source": [
    "noiseset = dset.mnist.MNIST(root = 'data/mnist', download=True, transform=transform)\n",
    "noiseloader = torch.utils.data.DataLoader(noiseset, batch_size=BATCH_SIZE * 10, shuffle=True)\n",
    "\n",
    "# get some random training images\n",
    "dataiter = iter(noiseloader)\n",
    "images, labels = dataiter.next()\n",
    "\n",
    "# show images\n",
    "imshow(torchvision.utils.make_grid(images))"
   ]
  },
  {
   "cell_type": "markdown",
   "metadata": {},
   "source": [
    "## Train model"
   ]
  },
  {
   "cell_type": "code",
   "execution_count": 420,
   "metadata": {},
   "outputs": [
    {
     "name": "stdout",
     "output_type": "stream",
     "text": [
      "Batch: 0 | Loss: 0.304\n",
      "Batch: 10 | Loss: 0.027\n",
      "Batch: 20 | Loss: 0.0111\n",
      "Batch: 30 | Loss: 0.00611\n",
      "Batch: 40 | Loss: 0.00505\n",
      "Batch: 50 | Loss: 0.00318\n",
      "Batch: 60 | Loss: 0.00284\n",
      "Batch: 70 | Loss: 0.0029\n",
      "Batch: 80 | Loss: 0.0023\n",
      "Batch: 90 | Loss: 0.00217\n"
     ]
    }
   ],
   "source": [
    "# define model\n",
    "model = Model(n_units)\n",
    "\n",
    "# define classifier\n",
    "k = 10\n",
    "classifier = lambda X: 1 - sigmoid(torch.Tensor([k]).log() - model(X, log=True).squeeze())\n",
    "\n",
    "optimizer = torch.optim.Adam(model.parameters(), lr=.1)  # i had to change this learning rate to get this to train\n",
    "\n",
    "# train\n",
    "train_model(classifier, optimizer, trainloader, noiseloader, n_batches=100)"
   ]
  },
  {
   "cell_type": "markdown",
   "metadata": {},
   "source": [
    "## Sampling\n",
    "\n",
    "Once more, the (ideal) goal of this model is to fit a function $p(x)$ to some data, such that we can:\n",
    "\n",
    "1. Evaluate its likelihood (wherein it actually tells us that data to which the model was fit is more likely than data to which it was not)\n",
    "2. Draw realistic samples\n",
    "\n",
    "From a Boltzmann machine, our primary strategy for drawing samples is via Gibbs sampling. It's slow, and I do not believe it's meant to work particularly well. Let's draw 5 samples and see how we do."
   ]
  },
  {
   "cell_type": "code",
   "execution_count": 422,
   "metadata": {},
   "outputs": [
    {
     "name": "stdout",
     "output_type": "stream",
     "text": [
      "CPU times: user 4min 10s, sys: 4.09 s, total: 4min 14s\n",
      "Wall time: 4min 17s\n"
     ]
    }
   ],
   "source": [
    "%%time\n",
    "\n",
    "samples = model.sample(n_samples=30, burn_in=25, every_n=1)"
   ]
  },
  {
   "cell_type": "markdown",
   "metadata": {},
   "source": [
    "Takes forever!"
   ]
  },
  {
   "cell_type": "code",
   "execution_count": 447,
   "metadata": {},
   "outputs": [
    {
     "data": {
      "image/png": "[encoded data removed]",
      "text/plain": [
       "<Figure size 864x864 with 1 Axes>"
      ]
     },
     "metadata": {
      "needs_background": "light"
     },
     "output_type": "display_data"
    }
   ],
   "source": [
    "plt.figure(figsize=(12, 12))\n",
    "imshow(torchvision.utils.make_grid(torch.stack(samples).view(len(samples), 1, 28, 28)))"
   ]
  },
  {
   "cell_type": "markdown",
   "metadata": {},
   "source": [
    "Nothing great. These samples are highly correlated, if perfectly identical, as expected. \n",
    "\n",
    "To generate better images, we'll have to let this run for a lot longer and \"thin\" the chain (taking every `every_n` samples, where `every_n` is on the order of 1, 10, or 100, roughly)."
   ]
  },
  {
   "cell_type": "markdown",
   "metadata": {},
   "source": [
    "## Summary\n",
    "\n",
    "In this post, we discussed four additional strategies for both speeding up, as well as outright avoiding, the computation of the gradient of the log-partition function $\\nabla_{\\theta}\\log{Z}$.\n",
    "\n",
    "While we only presented toy models here, these strategies see successful application in larger undirected graphical models, as well as directed conditional models for $p(y\\vert x)$. One key example of the latter is a language model; though the partition function is a sum over distinct values of $y$ (labels) instead of configurations of $x$ (inputs), it can still be intractable to compute! This is because there are as many distinct values of $y$ as there are tokens in the given language's vocabulary, which is typically on the order of millions.\n",
    "\n",
    "Thanks for reading."
   ]
  }
 ],
 "metadata": {
  "kernelspec": {
   "display_name": "Python 3",
   "language": "python",
   "name": "python3"
  },
  "language_info": {
   "codemirror_mode": {
    "name": "ipython",
    "version": 3
   },
   "file_extension": ".py",
   "mimetype": "text/x-python",
   "name": "python",
   "nbconvert_exporter": "python",
   "pygments_lexer": "ipython3",
   "version": "3.6.6"
  }
 },
 "nbformat": 4,
 "nbformat_minor": 2
}
